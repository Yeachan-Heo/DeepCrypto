{
 "cells": [
  {
   "cell_type": "code",
   "execution_count": 1,
   "id": "937b1c60-23e7-4ef1-9d08-e2277fff4872",
   "metadata": {},
   "outputs": [],
   "source": [
    "from deepcrypto.backtest import *\n",
    "from deepcrypto.portfolio_analysis import *\n",
    "from deepcrypto.data_utils.crawlers.bitfinex_kaggle import *\n",
    "from talib.abstract import *"
   ]
  },
  {
   "cell_type": "code",
   "execution_count": 2,
   "id": "ff700c71-8675-49ae-9dbe-45fe7cce1a75",
   "metadata": {},
   "outputs": [],
   "source": [
    "def strategy(df, config):\n",
    "    mean_volume = df[\"volume\"].rolling(int(config[\"mean_volume_period\"])).mean().shift(1)\n",
    "    volume_signal = (df[\"volume\"] / mean_volume) > config[\"volume_times\"]\n",
    "    \n",
    "    returns = df[\"close\"].pct_change(int(config[\"return_period\"]))\n",
    "    return_signal = ((returns == returns.rolling(int(config[\"return_signal_period\"])).max()).rolling(int(config[\"any_return_period\"])).max() == 1)\n",
    "        \n",
    "    breakout_signal = df[\"high\"] > df[\"high\"].rolling(int(config[\"time_cut\"] // 2)).max().shift(1)\n",
    "    breakout_signal_short = df[\"low\"] < df[\"low\"].rolling(int(config[\"time_cut\"] // 2)).min().shift(1)\n",
    "    \n",
    "    ma = df[\"close\"].rolling(int(config[\"ma_period\"])).mean()\n",
    "    ma_signal = ma.diff() > 0\n",
    "    \n",
    "    df[\"enter_long\"] = return_signal & volume_signal & ma_signal & breakout_signal\n",
    "    df[\"bet\"] = np.clip(0.01 / df.close.pct_change().rolling(200).std(), 0.1, 2) * 2\n",
    "    df[\"time_cut\"] = config[\"time_cut\"]\n",
    "    df[\"stop_loss\"] = config[\"stop_loss\"] / df[\"bet\"]\n",
    "    df[\"take_profit\"] = config[\"take_profit\"]\n",
    "    df[\"trade_cost\"] = 0.001\n",
    "    \n",
    "\n",
    "    \n",
    "    return df"
   ]
  },
  {
   "cell_type": "code",
   "execution_count": 3,
   "id": "53622b50-9e9a-4618-a4a8-0e347aa2cc0a",
   "metadata": {},
   "outputs": [],
   "source": [
    "def backtest(config, ticker):\n",
    "    data = data.backtest.add_defaults()\n",
    "\n",
    "    order, port = strategy(data, config).backtest()\n",
    "    qs.reports.full(port[\"portfolio_value\"].resample(\"1D\").last(), benchmark=port[\"open\"].resample(\"1D\").last())"
   ]
  },
  {
   "cell_type": "code",
   "execution_count": 4,
   "id": "a13cb275-0bcb-4e06-bbaa-004d3feaa29e",
   "metadata": {},
   "outputs": [
    {
     "name": "stderr",
     "output_type": "stream",
     "text": [
      "/home/ych/anaconda3/envs/DeepCrypto/lib/python3.7/site-packages/ray/autoscaler/_private/cli_logger.py:61: FutureWarning: Not all Ray CLI dependencies were found. In Ray 1.4+, the Ray CLI, autoscaler, and dashboard will only be usable via `pip install 'ray[default]'`. Please update your install command.\n",
      "  \"update your install command.\", FutureWarning)\n"
     ]
    }
   ],
   "source": [
    "import ray\n",
    "from deepcrypto.optimization import *\n",
    "\n",
    "def metric_fn(order_df, port_df):\n",
    "    return {\"sharpe\" : qs.stats.sharpe(port_df[\"portfolio_value\"].resample(\"1D\").last())}\n",
    "\n",
    "def optimize(df, ticker):\n",
    "    optimizer = BruteForceOptimizer(\n",
    "        data=df,\n",
    "        strategy=strategy,\n",
    "        config_dict = {\n",
    "            \"time_cut\" : [12, 24, 48, 96],\n",
    "            \"stop_loss\" : [0.02, 0.03, 0.05, 0.1],\n",
    "            \"take_profit\" : [0.05, 0.07, 0.1, 0.15, 0.2],\n",
    "            \"return_signal_period\" : ([12, 24, 48, 96]),\n",
    "            \"ma_period\" : [12, 24, 48, 96],\n",
    "            \"mean_volume_period\" : [6, 12, 24, 48, 96],\n",
    "            \"return_period\" : [6, 12, 24, 48, 96],\n",
    "            \"any_return_period\" : [3],\n",
    "            \"ma_period\" : [6, 12, 24, 48, 96],\n",
    "            \"volume_times\" : [3, 4, 5, 6, 7],\n",
    "        },\n",
    "        metric_fn=metric_fn,\n",
    "        result_dir=\"./results\",\n",
    "        strategy_name=f\"VolumeBreakout_{ticker}\",\n",
    "        n_cores=12\n",
    "    )\n",
    "    optimizer.optimize()\n",
    "    optimizer.save_results()\n",
    "    return optimizer\n"
   ]
  },
  {
   "cell_type": "code",
   "execution_count": 5,
   "id": "fd0370e9-2ade-4b70-adf4-43ead54e25b1",
   "metadata": {},
   "outputs": [
    {
     "name": "stderr",
     "output_type": "stream",
     "text": [
      "2021-05-28 12:19:39,219\tINFO services.py:1269 -- View the Ray dashboard at \u001b[1m\u001b[32mhttp://127.0.0.1:8265\u001b[39m\u001b[22m\n"
     ]
    },
    {
     "data": {
      "text/plain": [
       "{'node_ip_address': '192.168.68.106',\n",
       " 'raylet_ip_address': '192.168.68.106',\n",
       " 'redis_address': '192.168.68.106:6379',\n",
       " 'object_store_address': '/tmp/ray/session_2021-05-28_12-19-38_256386_2763/sockets/plasma_store',\n",
       " 'raylet_socket_name': '/tmp/ray/session_2021-05-28_12-19-38_256386_2763/sockets/raylet',\n",
       " 'webui_url': '127.0.0.1:8265',\n",
       " 'session_dir': '/tmp/ray/session_2021-05-28_12-19-38_256386_2763',\n",
       " 'metrics_export_port': 57916,\n",
       " 'node_id': '13976716e5bbc14fc94b4fc02ce8eee64cf4cd6789995e98adca7745'}"
      ]
     },
     "execution_count": 5,
     "metadata": {},
     "output_type": "execute_result"
    }
   ],
   "source": [
    "ray.init()"
   ]
  },
  {
   "cell_type": "code",
   "execution_count": null,
   "id": "4c9d4d26-3081-4676-afc9-f72f40f7e0d5",
   "metadata": {},
   "outputs": [
    {
     "name": "stderr",
     "output_type": "stream",
     "text": [
      " 10%|█         | 1708/16667 [05:45<55:12,  4.52it/s]  "
     ]
    }
   ],
   "source": [
    "data = read_binance_data(\"/home/ych/Storage/binance/binance.db\", \"1H\", \"BTCUSDT\")\n",
    "data = data.backtest.add_defaults()\n",
    "\n",
    "data = data[:int(data.index.__len__() * 0.7)]\n",
    "\n",
    "optimizer = optimize(data, \"BTCUSDT\")\n",
    "config = optimizer.get_best_result(\"sharpe\")"
   ]
  },
  {
   "cell_type": "code",
   "execution_count": null,
   "id": "cd967dc4-1ce9-4fc0-9e7f-5805778f8d6f",
   "metadata": {},
   "outputs": [],
   "source": [
    "pprint(config)"
   ]
  },
  {
   "cell_type": "code",
   "execution_count": null,
   "id": "037cfb0a-1513-460a-a55e-17facb3f15f2",
   "metadata": {},
   "outputs": [],
   "source": [
    "backtest_and_report(config, \"BTCUSDT\")"
   ]
  }
 ],
 "metadata": {
  "kernelspec": {
   "display_name": "Python 3",
   "language": "python",
   "name": "python3"
  },
  "language_info": {
   "codemirror_mode": {
    "name": "ipython",
    "version": 3
   },
   "file_extension": ".py",
   "mimetype": "text/x-python",
   "name": "python",
   "nbconvert_exporter": "python",
   "pygments_lexer": "ipython3",
   "version": "3.7.10"
  }
 },
 "nbformat": 4,
 "nbformat_minor": 5
}
